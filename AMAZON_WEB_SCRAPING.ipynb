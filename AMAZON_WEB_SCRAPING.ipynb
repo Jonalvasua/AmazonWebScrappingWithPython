{
 "cells": [
  {
   "cell_type": "code",
   "execution_count": 3,
   "id": "9419779a-3a03-4749-b5b7-250735925cae",
   "metadata": {},
   "outputs": [],
   "source": [
    "# -----------------Import libraries-----------------\n",
    "\n",
    "from bs4 import BeautifulSoup\n",
    "import requests\n",
    "import time\n",
    "import datetime\n",
    "\n",
    "import smtplib #For sendig you emails\n"
   ]
  },
  {
   "cell_type": "code",
   "execution_count": 80,
   "id": "11ec2f70-b39a-48d5-b1f0-f2658d383bb9",
   "metadata": {},
   "outputs": [
    {
     "name": "stdout",
     "output_type": "stream",
     "text": [
      "\n",
      "             ELEGOO Saturn 4 Impresora 3D de resina MSLA de 12 K, LCD overol de 10 pulgadas, nivelación automática de un clic, sensor mecánico inteligente, lente colimadora COB + Fresnel, tamaño de impresión\n",
      "            \n",
      "$9,903.22\n"
     ]
    }
   ],
   "source": [
    "# -----------------Connect to Website-----------------\n",
    "\n",
    "URL = 'https://www.amazon.com.mx/ELEGOO-nivelaci%C3%B3n-autom%C3%A1tica-inteligente-colimadora/dp/B0D144YYR8/ref=sr_1_12?crid=14AW8UPJIKQQD&dib=eyJ2IjoiMSJ9.O_Z8S2S8JuLEVFm3ti4jDV1FgoUaCoT5SibWhWEQsBepxKYXwiZrsnH7wW-9e7z0RWtCE9dQ32uFep8mD9gjfYgXZiSDKupJIPQTDSiNvvKmIO78cgHiufLVCAf0rlkzGPz8Q2RNRGLkFRG6GL0sbRyxuWiBAlvvnsrRQtzCJDGM3aqzflxKF7Y6MtsHjBSNgF69UdNYTDb_Ga2e1XF9fDl6FuC13Ej8orGxmblZqw2Q9NWQwBllrPSSLPiYrYupQS2VyXoW4OF6wzZCOLvHtEOx85OyrlPP7b-tRdkoyeQ.hayh57cFiDy98Eu87mBbPMduitLGWXQYGUTaWn5A6EA&dib_tag=se&keywords=impresora+3d+resina&qid=1720465079&sprefix=impresora+3d+%2Caps%2C127&sr=8-12&ufe=app_do%3Aamzn1.fos.242f5c11-6cfd-40d6-91f6-be3d1974080c'\n",
    "\n",
    "# -----------------Retrieved from httpbin.org/get-----------------\n",
    "headers = {\"User-Agent\": \"Mozilla/5.0 (Windows NT 10.0; Win64; x64) AppleWebKit/537.36 (KHTML, like Gecko) Chrome/126.0.0.0 Safari/537.36\", \"Accept-Encoding\": \"gzip, deflate, br, zstd\", \"Accept\": \"text/html,application/xhtml+xml,application/xml;q=0.9,image/avif,image/webp,image/apng,*/*;q=0.8,application/signed-exchange;v=b3;q=0.7\", \"DNT\":\"1\", \"Connection\":\"close\", \"Upgrade-Insecure-Requests\":\"1\"}\n",
    "\n",
    "# -----------------Request the info from the page-----------------\n",
    "page = requests.get(URL, headers = headers)\n",
    "\n",
    "# -----------------Retrieve all the info-----------------\n",
    "soup1 = BeautifulSoup(page.content, \"html.parser\")\n",
    "\n",
    "#-----------------Apply prettify-----------------\n",
    "soup2 = BeautifulSoup(soup1.prettify(), \"html.parser\")\n",
    "\n",
    "#-----------------Assign where to find -----------------\n",
    "title = soup2.find(id='productTitle').get_text()\n",
    "price = soup2.find('span', class_='aok-offscreen').get_text(strip=True)\n",
    "print(title)\n",
    "print(price)\n",
    "\n"
   ]
  },
  {
   "cell_type": "code",
   "execution_count": 81,
   "id": "f2246667-ac28-48ad-bf2a-bc63c79ef1b8",
   "metadata": {},
   "outputs": [
    {
     "name": "stdout",
     "output_type": "stream",
     "text": [
      "ELEGOO Saturn 4 Impresora 3D de resina MSLA de 12 K, LCD overol de 10 pulgadas, nivelación automática de un clic, sensor mecánico inteligente, lente colimadora COB + Fresnel, tamaño de impresión\n",
      "9903.22\n"
     ]
    }
   ],
   "source": [
    "# -----------------Take off the spaces and $ sign-----------------\n",
    "price = price.strip()[1] + price.strip()[3:]\n",
    "title = title.strip()\n",
    "\n",
    "# -----------------Both are strings-----------------\n",
    "print(title)\n",
    "print(price)"
   ]
  },
  {
   "cell_type": "code",
   "execution_count": 46,
   "id": "16602744-9d0f-4734-a856-00648c5f8c80",
   "metadata": {},
   "outputs": [
    {
     "name": "stdout",
     "output_type": "stream",
     "text": [
      "2024-07-08\n"
     ]
    }
   ],
   "source": [
    "import datetime\n",
    "\n",
    "today = datetime.date.today()\n",
    "\n",
    "print(today)"
   ]
  },
  {
   "cell_type": "code",
   "execution_count": 48,
   "id": "9ef6c29f-e307-43f0-a061-edcfd191be90",
   "metadata": {},
   "outputs": [],
   "source": [
    "import csv\n",
    "\n",
    "# -----------------Asigning headers and data (columns and rows)------------------\n",
    "header = ['Title', 'Price', 'Date']\n",
    "data = [title, price, today]\n",
    "\n",
    "\"\"\"   We comment this section because we dont want to alter the data we've created\n",
    "#  --------------------------Creating the csv---------------------------------\n",
    "with open('AmazonWebScraperDataset.csv', 'w', newline='', encoding = 'UTF8') as f:\n",
    "    writer = csv.writer(f)\n",
    "\n",
    "    #  ------------------appending data to the csv----------------------\n",
    "    writer.writerow(header)\n",
    "    writer.writerow(data)\n",
    "\"\"\"\n"
   ]
  },
  {
   "cell_type": "code",
   "execution_count": 54,
   "id": "3e04892f-0e9d-4427-9d9a-67fe9506c7d9",
   "metadata": {},
   "outputs": [
    {
     "name": "stdout",
     "output_type": "stream",
     "text": [
      "                                               Title     Price        Date\n",
      "0  ELEGOO Saturn 4 Impresora 3D de resina MSLA de...  9,903.22  2024-07-08\n"
     ]
    }
   ],
   "source": [
    "# -----------------import pandas for visualization -----------------\n",
    "import pandas as pd\n",
    "df = pd.read_csv(r\"C:\\Users\\Jona\\PORTFOLIO PROJECTS\\AmazonWebScraperDataset.csv\")\n",
    "\n",
    "print(df)"
   ]
  },
  {
   "cell_type": "code",
   "execution_count": null,
   "id": "9f8d4f83-3545-419b-87d1-73675fd6452b",
   "metadata": {},
   "outputs": [],
   "source": [
    "# -----------------APPENDING MORE DATA BECAUSE WE WANT TO DO A DAILY PRICE-TRACKER -----------------\n",
    "with open('AmazonWebScraperDataset.csv', 'a+', newline='', encoding = 'UTF8') as f:\n",
    "    writer = csv.writer(f)\n",
    "    writer.writerow(data)"
   ]
  },
  {
   "cell_type": "code",
   "execution_count": 86,
   "id": "db64b7ed-a8ca-4952-9ed5-153cb261bbe4",
   "metadata": {},
   "outputs": [],
   "source": [
    "# -----------------Automation for the price-tracker-----------------\n",
    "\n",
    "def check_price():\n",
    "    URL = 'https://www.amazon.com.mx/ELEGOO-nivelaci%C3%B3n-autom%C3%A1tica-inteligente-colimadora/dp/B0D144YYR8/ref=sr_1_12?crid=14AW8UPJIKQQD&dib=eyJ2IjoiMSJ9.O_Z8S2S8JuLEVFm3ti4jDV1FgoUaCoT5SibWhWEQsBepxKYXwiZrsnH7wW-9e7z0RWtCE9dQ32uFep8mD9gjfYgXZiSDKupJIPQTDSiNvvKmIO78cgHiufLVCAf0rlkzGPz8Q2RNRGLkFRG6GL0sbRyxuWiBAlvvnsrRQtzCJDGM3aqzflxKF7Y6MtsHjBSNgF69UdNYTDb_Ga2e1XF9fDl6FuC13Ej8orGxmblZqw2Q9NWQwBllrPSSLPiYrYupQS2VyXoW4OF6wzZCOLvHtEOx85OyrlPP7b-tRdkoyeQ.hayh57cFiDy98Eu87mBbPMduitLGWXQYGUTaWn5A6EA&dib_tag=se&keywords=impresora+3d+resina&qid=1720465079&sprefix=impresora+3d+%2Caps%2C127&sr=8-12&ufe=app_do%3Aamzn1.fos.242f5c11-6cfd-40d6-91f6-be3d1974080c'\n",
    "\n",
    "    headers = {\"User-Agent\": \"Mozilla/5.0 (Windows NT 10.0; Win64; x64) AppleWebKit/537.36 (KHTML, like Gecko) Chrome/126.0.0.0 Safari/537.36\", \"Accept-Encoding\": \"gzip, deflate, br, zstd\", \"Accept\": \"text/html,application/xhtml+xml,application/xml;q=0.9,image/avif,image/webp,image/apng,*/*;q=0.8,application/signed-exchange;v=b3;q=0.7\", \"DNT\":\"1\", \"Connection\":\"close\", \"Upgrade-Insecure-Requests\":\"1\"}\n",
    "\n",
    "    page = requests.get(URL, headers = headers)\n",
    "\n",
    "    soup1 = BeautifulSoup(page.content, \"html.parser\")\n",
    "\n",
    "    soup2 = BeautifulSoup(soup1.prettify(), \"html.parser\")\n",
    "\n",
    "    title = soup2.find(id='productTitle').get_text()\n",
    "    price = soup2.find('span', class_='aok-offscreen').get_text(strip=True)\n",
    "\n",
    "    price = price.strip()[1] + price.strip()[3:]\n",
    "    title = title.strip()\n",
    "\n",
    "    import datetime\n",
    "    today = datetime.date.today()\n",
    "\n",
    "    import csv\n",
    "    header = ['Title', 'Price', 'Date']\n",
    "    data = [title, price, today]\n",
    "\n",
    "    with open('AmazonWebScraperDataset.csv', 'a+', newline='', encoding = 'UTF8') as f:\n",
    "        writer = csv.writer(f)\n",
    "        writer.writerow(data)\n",
    "\n",
    "    if(float(price) < 8000):\n",
    "        send_mail()\n",
    "\n",
    "\n",
    "\n",
    "\n",
    "\n",
    "\n",
    "\n",
    "\n",
    "\n"
   ]
  },
  {
   "cell_type": "code",
   "execution_count": null,
   "id": "c2186b90-be37-4bb0-a8a4-ee43604643fe",
   "metadata": {},
   "outputs": [],
   "source": [
    "# -----------------Every day will do this (60 seconds * 60 minutes * 24 hours = 86400 seconds per day)-----------------\n",
    "while(True):\n",
    "    check_price()\n",
    "    time.sleep(86400)"
   ]
  },
  {
   "cell_type": "code",
   "execution_count": null,
   "id": "d5683e66-2e2b-44c2-8c40-c091f43887d6",
   "metadata": {},
   "outputs": [],
   "source": [
    "# -----------------sending email if price is lower-----------------\n",
    "\n",
    "def send_mail():\n",
    "    server = smtplib.SMTP_SSL('stmp.gmail.com',465)\n",
    "    server.ehlo()\n",
    "    server.login('yourMail@gmail.com','xxxxyourpaswordxxxx')\n",
    "\n",
    "    subject = \"The printing machine you want is below $8000 mxn! Now is your chance to buy!\"\n",
    "    body = \"YourName, This is the momento we have been waiting for. Now is your chance to pick up the printer of your dreams. Don't mess\"\n",
    "\n",
    "    msg = f\"Subject: {subject}\\n\\n{body}\"\n",
    "\n",
    "    server.sendmail(\n",
    "        'YourEmail@gmail.com',\n",
    "        msg\n",
    "    )"
   ]
  }
 ],
 "metadata": {
  "kernelspec": {
   "display_name": "Python 3 (ipykernel)",
   "language": "python",
   "name": "python3"
  },
  "language_info": {
   "codemirror_mode": {
    "name": "ipython",
    "version": 3
   },
   "file_extension": ".py",
   "mimetype": "text/x-python",
   "name": "python",
   "nbconvert_exporter": "python",
   "pygments_lexer": "ipython3",
   "version": "3.12.4"
  }
 },
 "nbformat": 4,
 "nbformat_minor": 5
}
